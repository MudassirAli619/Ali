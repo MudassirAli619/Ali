{
 "cells": [
  {
   "cell_type": "code",
   "execution_count": 3,
   "id": "835c023e",
   "metadata": {},
   "outputs": [],
   "source": [
    "from tensorflow.keras.applications.vgg16 import VGG16, preprocess_input, decode_predictions\n",
    "#if you do this first time it will download in local repository"
   ]
  },
  {
   "cell_type": "code",
   "execution_count": 4,
   "id": "1d099d7d",
   "metadata": {},
   "outputs": [],
   "source": [
    "from tensorflow.keras.preprocessing.image import load_img, img_to_array"
   ]
  },
  {
   "cell_type": "code",
   "execution_count": 5,
   "id": "86b25880",
   "metadata": {},
   "outputs": [],
   "source": [
    "model = VGG16() #to get vgg16 model"
   ]
  },
  {
   "cell_type": "code",
   "execution_count": 6,
   "id": "8e840fdd",
   "metadata": {},
   "outputs": [
    {
     "name": "stdout",
     "output_type": "stream",
     "text": [
      "Model: \"vgg16\"\n",
      "_________________________________________________________________\n",
      "Layer (type)                 Output Shape              Param #   \n",
      "=================================================================\n",
      "input_1 (InputLayer)         [(None, 224, 224, 3)]     0         \n",
      "_________________________________________________________________\n",
      "block1_conv1 (Conv2D)        (None, 224, 224, 64)      1792      \n",
      "_________________________________________________________________\n",
      "block1_conv2 (Conv2D)        (None, 224, 224, 64)      36928     \n",
      "_________________________________________________________________\n",
      "block1_pool (MaxPooling2D)   (None, 112, 112, 64)      0         \n",
      "_________________________________________________________________\n",
      "block2_conv1 (Conv2D)        (None, 112, 112, 128)     73856     \n",
      "_________________________________________________________________\n",
      "block2_conv2 (Conv2D)        (None, 112, 112, 128)     147584    \n",
      "_________________________________________________________________\n",
      "block2_pool (MaxPooling2D)   (None, 56, 56, 128)       0         \n",
      "_________________________________________________________________\n",
      "block3_conv1 (Conv2D)        (None, 56, 56, 256)       295168    \n",
      "_________________________________________________________________\n",
      "block3_conv2 (Conv2D)        (None, 56, 56, 256)       590080    \n",
      "_________________________________________________________________\n",
      "block3_conv3 (Conv2D)        (None, 56, 56, 256)       590080    \n",
      "_________________________________________________________________\n",
      "block3_pool (MaxPooling2D)   (None, 28, 28, 256)       0         \n",
      "_________________________________________________________________\n",
      "block4_conv1 (Conv2D)        (None, 28, 28, 512)       1180160   \n",
      "_________________________________________________________________\n",
      "block4_conv2 (Conv2D)        (None, 28, 28, 512)       2359808   \n",
      "_________________________________________________________________\n",
      "block4_conv3 (Conv2D)        (None, 28, 28, 512)       2359808   \n",
      "_________________________________________________________________\n",
      "block4_pool (MaxPooling2D)   (None, 14, 14, 512)       0         \n",
      "_________________________________________________________________\n",
      "block5_conv1 (Conv2D)        (None, 14, 14, 512)       2359808   \n",
      "_________________________________________________________________\n",
      "block5_conv2 (Conv2D)        (None, 14, 14, 512)       2359808   \n",
      "_________________________________________________________________\n",
      "block5_conv3 (Conv2D)        (None, 14, 14, 512)       2359808   \n",
      "_________________________________________________________________\n",
      "block5_pool (MaxPooling2D)   (None, 7, 7, 512)         0         \n",
      "_________________________________________________________________\n",
      "flatten (Flatten)            (None, 25088)             0         \n",
      "_________________________________________________________________\n",
      "fc1 (Dense)                  (None, 4096)              102764544 \n",
      "_________________________________________________________________\n",
      "fc2 (Dense)                  (None, 4096)              16781312  \n",
      "_________________________________________________________________\n",
      "predictions (Dense)          (None, 1000)              4097000   \n",
      "=================================================================\n",
      "Total params: 138,357,544\n",
      "Trainable params: 138,357,544\n",
      "Non-trainable params: 0\n",
      "_________________________________________________________________\n"
     ]
    }
   ],
   "source": [
    "model.summary() #summary of the model"
   ]
  },
  {
   "cell_type": "code",
   "execution_count": 7,
   "id": "6b87bc42",
   "metadata": {},
   "outputs": [],
   "source": [
    "import os #to load images\n"
   ]
  },
  {
   "cell_type": "code",
   "execution_count": 9,
   "id": "c8fd4316",
   "metadata": {},
   "outputs": [
    {
     "name": "stdout",
     "output_type": "stream",
     "text": [
      "coffee table.jpg\n",
      "sample interior design images/coffee table.jpg\n",
      "[[('n03291819', 'envelope', 0.2032789), ('n02840245', 'binder', 0.12611514)]]\n",
      "\n",
      "Console_Table.jpg\n",
      "sample interior design images/Console_Table.jpg\n",
      "[[('n03127925', 'crate', 0.1468364), ('n02971356', 'carton', 0.11227009)]]\n",
      "\n",
      "End table.jpg\n",
      "sample interior design images/End table.jpg\n",
      "[[('n02840245', 'binder', 0.39726198), ('n03838899', 'oboe', 0.15650067)]]\n",
      "\n",
      "ottoman.jpg\n",
      "sample interior design images/ottoman.jpg\n",
      "[[('n06359193', 'web_site', 0.3064408), ('n03291819', 'envelope', 0.3042777)]]\n",
      "\n",
      "Parts-of-an-armchair.jpg\n",
      "sample interior design images/Parts-of-an-armchair.jpg\n",
      "[[('n03291819', 'envelope', 0.49425638), ('n02971356', 'carton', 0.17553711)]]\n",
      "\n",
      "Parts-of-desk-chair.jpg\n",
      "sample interior design images/Parts-of-desk-chair.jpg\n",
      "[[('n06359193', 'web_site', 0.15662597), ('n07565083', 'menu', 0.12104496)]]\n",
      "\n",
      "parts-of-dining-chair.jpg\n",
      "sample interior design images/parts-of-dining-chair.jpg\n",
      "[[('n03376595', 'folding_chair', 0.37801707), ('n03179701', 'desk', 0.3073849)]]\n",
      "\n",
      "Side sofa.jpg\n",
      "sample interior design images/Side sofa.jpg\n",
      "[[('n03376595', 'folding_chair', 0.537849), ('n04204347', 'shopping_cart', 0.14207897)]]\n",
      "\n"
     ]
    }
   ],
   "source": [
    "for file in os.listdir('sample interior design images'): #for loop\n",
    "    print(file)\n",
    "    full_path ='sample interior design images/' + file \n",
    "    print(full_path)\n",
    "    #apply object detection in this file\n",
    "    image = load_img(full_path, target_size=(224, 224)) #load the image from full_path, the size of this image 224 pixels\n",
    "    image = img_to_array(image) #convert this image to array\n",
    "    image = image.reshape((1, image.shape[0], image.shape[1], image.shape[2])) \n",
    "    image = preprocess_input(image) \n",
    "    y_pred = model.predict(image) #properties of 1000 classes\n",
    "    # top means class\n",
    "    label = decode_predictions(y_pred, top = 2)\n",
    "    print(label)\n",
    "    print() #to print result in 2nd line"
   ]
  },
  {
   "cell_type": "code",
   "execution_count": null,
   "id": "a44cb2d5",
   "metadata": {},
   "outputs": [],
   "source": []
  }
 ],
 "metadata": {
  "kernelspec": {
   "display_name": "Python 3",
   "language": "python",
   "name": "python3"
  },
  "language_info": {
   "codemirror_mode": {
    "name": "ipython",
    "version": 3
   },
   "file_extension": ".py",
   "mimetype": "text/x-python",
   "name": "python",
   "nbconvert_exporter": "python",
   "pygments_lexer": "ipython3",
   "version": "3.8.8"
  }
 },
 "nbformat": 4,
 "nbformat_minor": 5
}
